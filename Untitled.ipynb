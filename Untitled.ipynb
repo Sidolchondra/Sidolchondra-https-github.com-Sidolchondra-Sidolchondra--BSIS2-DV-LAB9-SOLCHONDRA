{
  "nbformat": 4,
  "nbformat_minor": 0,
  "metadata": {
    "colab": {
      "provenance": [],
      "authorship_tag": "ABX9TyPu8qWfNNCX9ouhtudebYIn",
      "include_colab_link": true
    },
    "kernelspec": {
      "name": "python3",
      "display_name": "Python 3"
    },
    "language_info": {
      "name": "python"
    }
  },
  "cells": [
    {
      "cell_type": "markdown",
      "metadata": {
        "id": "view-in-github",
        "colab_type": "text"
      },
      "source": [
        "<a href=\"https://colab.research.google.com/github/Sidolchondra/Sidolchondra-https-github.com-Sidolchondra-Sidolchondra--BSIS2-DV-LAB9-SOLCHONDRA/blob/main/Untitled.ipynb\" target=\"_parent\"><img src=\"https://colab.research.google.com/assets/colab-badge.svg\" alt=\"Open In Colab\"/></a>"
      ]
    },
    {
      "cell_type": "code",
      "execution_count": 1,
      "metadata": {
        "colab": {
          "base_uri": "https://localhost:8080/"
        },
        "id": "2cCIc0RAZWbi",
        "outputId": "77a0f616-4e9a-4542-cabe-95018bade63d"
      },
      "outputs": [
        {
          "output_type": "stream",
          "name": "stdout",
          "text": [
            "()\n"
          ]
        }
      ],
      "source": [
        "emptyTuple=()\n",
        "print(emptyTuple)"
      ]
    },
    {
      "cell_type": "code",
      "source": [
        "z=(3,7,4,2,5)\n",
        "print(z)"
      ],
      "metadata": {
        "colab": {
          "base_uri": "https://localhost:8080/"
        },
        "id": "m-QUEMPHZmvG",
        "outputId": "4574b7ce-7af8-42c2-bd14-c68627223532"
      },
      "execution_count": 2,
      "outputs": [
        {
          "output_type": "stream",
          "name": "stdout",
          "text": [
            "(3, 7, 4, 2, 5)\n"
          ]
        }
      ]
    },
    {
      "cell_type": "code",
      "source": [
        "tup1=('elsa',)\n",
        "tup2='elsa',\n",
        "notTuple=('elsa')\n",
        "print(type(notTuple))"
      ],
      "metadata": {
        "colab": {
          "base_uri": "https://localhost:8080/"
        },
        "id": "yiUZK9a-Z7JG",
        "outputId": "087392dc-8c09-41f9-a387-bc25c2a170c8"
      },
      "execution_count": 9,
      "outputs": [
        {
          "output_type": "stream",
          "name": "stdout",
          "text": [
            "<class 'str'>\n"
          ]
        }
      ]
    },
    {
      "cell_type": "code",
      "source": [
        "z=(3,7,4,2)\n",
        "print(z[0])"
      ],
      "metadata": {
        "colab": {
          "base_uri": "https://localhost:8080/"
        },
        "id": "pKZqVJPUafCn",
        "outputId": "6e51f55b-254d-481a-c57b-62d98e3f0251"
      },
      "execution_count": 10,
      "outputs": [
        {
          "output_type": "stream",
          "name": "stdout",
          "text": [
            "3\n"
          ]
        }
      ]
    },
    {
      "cell_type": "code",
      "source": [
        "z=(3,7,4,2)\n",
        "print(z[-1])"
      ],
      "metadata": {
        "colab": {
          "base_uri": "https://localhost:8080/"
        },
        "id": "nKBYkgcTai0u",
        "outputId": "64dce783-f34c-40e1-b34c-1154e09a7b3b"
      },
      "execution_count": 11,
      "outputs": [
        {
          "output_type": "stream",
          "name": "stdout",
          "text": [
            "2\n"
          ]
        }
      ]
    },
    {
      "cell_type": "code",
      "source": [
        "z=(3,7,4,2)\n",
        "print(z[0:2])"
      ],
      "metadata": {
        "colab": {
          "base_uri": "https://localhost:8080/"
        },
        "id": "LEnIwp6-aogM",
        "outputId": "2ed2f9af-0afa-4aca-8d59-6d646587e72b"
      },
      "execution_count": 12,
      "outputs": [
        {
          "output_type": "stream",
          "name": "stdout",
          "text": [
            "(3, 7)\n"
          ]
        }
      ]
    },
    {
      "cell_type": "code",
      "source": [
        "z=(3,7,4,2)\n",
        "print(z[:3])"
      ],
      "metadata": {
        "colab": {
          "base_uri": "https://localhost:8080/"
        },
        "id": "NRe_fbY8aqDj",
        "outputId": "edf9207d-de87-456a-92c7-89a679594a8a"
      },
      "execution_count": 13,
      "outputs": [
        {
          "output_type": "stream",
          "name": "stdout",
          "text": [
            "(3, 7, 4)\n"
          ]
        }
      ]
    },
    {
      "cell_type": "code",
      "source": [
        "a,b,c,d=(3,7,4,2)\n",
        "print(a)\n",
        "print(b)\n",
        "print(c)\n",
        "print(d)"
      ],
      "metadata": {
        "colab": {
          "base_uri": "https://localhost:8080/"
        },
        "id": "5Mg1OeoIatC9",
        "outputId": "a4e84f66-3004-4dd7-cb76-c06b5b5b2179"
      },
      "execution_count": 14,
      "outputs": [
        {
          "output_type": "stream",
          "name": "stdout",
          "text": [
            "3\n",
            "7\n",
            "4\n",
            "2\n"
          ]
        }
      ]
    },
    {
      "cell_type": "code",
      "source": [
        "friends=('Edmer','Angelo','Julius','carlo')\n",
        "for index, friends in enumerate(friends):\n",
        "   print(index,friends)"
      ],
      "metadata": {
        "colab": {
          "base_uri": "https://localhost:8080/"
        },
        "id": "9krnQIyrawOu",
        "outputId": "3abc9713-2e11-4a56-8307-e28e303de479"
      },
      "execution_count": 15,
      "outputs": [
        {
          "output_type": "stream",
          "name": "stdout",
          "text": [
            "0 Edmer\n",
            "1 Angelo\n",
            "2 Julius\n",
            "3 carlo\n"
          ]
        }
      ]
    }
  ]
}